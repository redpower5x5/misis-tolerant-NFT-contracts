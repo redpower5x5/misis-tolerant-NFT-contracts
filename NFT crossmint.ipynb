{
 "cells": [
  {
   "cell_type": "markdown",
   "id": "398f110d",
   "metadata": {},
   "source": [
    "# Contracts quicknode+crossmint"
   ]
  },
  {
   "cell_type": "markdown",
   "id": "0a673883",
   "metadata": {},
   "source": [
    "## Init"
   ]
  },
  {
   "cell_type": "code",
   "execution_count": 3,
   "id": "22dac5ec",
   "metadata": {},
   "outputs": [],
   "source": [
    "from jsonrpcclient import request, parse, Ok\n",
    "import logging\n",
    "import requests\n",
    "# Our quicknode endpoint\n",
    "base_endpoint = \"https://alpha-sleek-general.solana-devnet.discover.quiknode.pro/b511198243861757412f978f597d03eb715ce6a5/\""
   ]
  },
  {
   "cell_type": "markdown",
   "id": "4296d3da",
   "metadata": {},
   "source": [
    "## Creating collection"
   ]
  },
  {
   "cell_type": "code",
   "execution_count": 5,
   "id": "80436f44",
   "metadata": {
    "scrolled": true
   },
   "outputs": [
    {
     "name": "stdout",
     "output_type": "stream",
     "text": [
      "{'id': 'ee9b4d2b-b768-4e51-a882-c0b766f07e10', 'metadata': {'name': 'Test NFT VK HACK collection', 'symbol': '', 'description': 'NFTs for vkhack', 'imageUrl': 'https://upload.wikimedia.org/wikipedia/commons/5/50/Congrats_bqt.jpg'}, 'onChain': {'chain': 'solana', 'type': 'metaplex-certified-collection'}}\n"
     ]
    }
   ],
   "source": [
    "chain = \"solana\"\n",
    "metadata = {\n",
    "    \"name\": \"Test NFT VK HACK collection\",\n",
    "            \"description\":\"NFTs for vkhack\",\n",
    "            \"imageUrl\": \"https://upload.wikimedia.org/wikipedia/commons/5/50/Congrats_bqt.jpg\"\n",
    "}\n",
    "\n",
    "response = requests.post(base_endpoint,json=request(\"cm_createCollection\", [chain, metadata]))\n",
    "parsed = parse(response.json())\n",
    "if isinstance(parsed, Ok):\n",
    "    print(parsed.result)\n",
    "else:\n",
    "    logging.error(parsed.message)"
   ]
  },
  {
   "cell_type": "markdown",
   "id": "94b93bc6",
   "metadata": {},
   "source": [
    "## Minting NFT"
   ]
  },
  {
   "cell_type": "code",
   "execution_count": 37,
   "id": "bfb25d09",
   "metadata": {},
   "outputs": [],
   "source": [
    "collection_id = 'ee9b4d2b-b768-4e51-a882-c0b766f07e10'\n",
    "wallet_addr = \"solana:C1LEN5mKhd6kLvFzwZPFyNWJaGXF6dV1EGqvKzUuiocD\"\n",
    "nft_config = {\n",
    "        \"name\": \"NEKO VK TEST NEW\",\n",
    "        \"image\": \"https://i.ibb.co/ZY4d6SW/pic-blur-watermark.png\",\n",
    "        \"description\": \"AXel test encrypted ticket\",\n",
    "        \"attributes\": [\n",
    "            {\n",
    "                \"trait_type\": \"ticket_type\",\n",
    "                \"value\": \"VIP+STRIP\"\n",
    "            },\n",
    "            {\n",
    "                \"trait_type\": \"zone\",\n",
    "                \"value\": 4\n",
    "            },\n",
    "            {\n",
    "                \"trait_type\": \"encrypted_img\",\n",
    "                \"value\": \"https://nextcloud.seizure.icu/s/nCbFHYz8kfa5Xi7/download/pic.enc.png\"\n",
    "            },\n",
    "        ]\n",
    "}"
   ]
  },
  {
   "cell_type": "code",
   "execution_count": 38,
   "id": "ddc25091",
   "metadata": {},
   "outputs": [
    {
     "name": "stdout",
     "output_type": "stream",
     "text": [
      "{'id': '4e47bd6e-f71f-4cb7-afad-85304b158346', 'onChain': {'status': 'pending', 'chain': 'solana'}}\n"
     ]
    }
   ],
   "source": [
    "response = requests.post(base_endpoint, json=request(\"cm_mintNFT\", [collection_id, wallet_addr,  nft_config]))\n",
    "parsed = parse(response.json())\n",
    "if isinstance(parsed, Ok):\n",
    "    print(parsed.result)\n",
    "else:\n",
    "    logging.error(parsed.message)"
   ]
  },
  {
   "cell_type": "markdown",
   "id": "b74fb844",
   "metadata": {},
   "source": [
    "## Checking minting status"
   ]
  },
  {
   "cell_type": "code",
   "execution_count": 39,
   "id": "fd83f37f",
   "metadata": {},
   "outputs": [],
   "source": [
    "nftid = parsed.result['id']"
   ]
  },
  {
   "cell_type": "code",
   "execution_count": 45,
   "id": "acdaa81b",
   "metadata": {},
   "outputs": [
    {
     "name": "stdout",
     "output_type": "stream",
     "text": [
      "{'id': '4e47bd6e-f71f-4cb7-afad-85304b158346', 'metadata': {'name': 'NEKO VK TEST NEW', 'symbol': '', 'description': 'AXel test encrypted ticket', 'seller_fee_basis_points': 0, 'image': 'https://nftstorage.link/ipfs/bafybeigbqmjqajhrxlp4cczaow3lj6hybwjcd4j45drpwttmdeppprzsme', 'attributes': [{'trait_type': 'ticket_type', 'value': 'VIP+STRIP'}, {'trait_type': 'zone', 'value': 4}, {'trait_type': 'encrypted_img', 'value': 'https://nextcloud.seizure.icu/s/nCbFHYz8kfa5Xi7/download/pic.enc.png'}], 'properties': {'files': [], 'category': 'image', 'creators': []}}, 'onChain': {'status': 'success', 'mintHash': 'Ax3oCSEmpaRYWCb18Sa1DDN3cH5KeWXX2yQ9MLQm4CAU', 'owner': 'C1LEN5mKhd6kLvFzwZPFyNWJaGXF6dV1EGqvKzUuiocD', 'chain': 'solana'}}\n"
     ]
    }
   ],
   "source": [
    "response = requests.post(base_endpoint, json=request(\"cm_getNFTMintStatus\", [collection_id, nftid]))\n",
    "parsed = parse(response.json())\n",
    "if isinstance(parsed, Ok):\n",
    "    print(parsed.result)\n",
    "else:\n",
    "    logging.error(parsed.message)\n"
   ]
  },
  {
   "cell_type": "markdown",
   "id": "02735905",
   "metadata": {},
   "source": [
    "## Retreiving NFTs from wallet"
   ]
  },
  {
   "cell_type": "code",
   "execution_count": 46,
   "id": "1a770de0",
   "metadata": {},
   "outputs": [
    {
     "data": {
      "text/plain": [
       "{'jsonrpc': '2.0',\n",
       " 'result': {'owner': 'C1LEN5mKhd6kLvFzwZPFyNWJaGXF6dV1EGqvKzUuiocD',\n",
       "  'assets': [{'name': 'My NFT',\n",
       "    'collectionName': 'Unknown',\n",
       "    'tokenAddress': '3xKegNXyokp1nLHj2pWXsMofWoqgTFyBK918Li788ocN',\n",
       "    'collectionAddress': '9dLPa7otfht4rszhdSL6EjfSLwENibhKa3yCqYTf1LqP',\n",
       "    'imageUrl': 'https://nftstorage.link/ipfs/bafkreiemw3dox3dglhfzq46vttfkn2cdk2n2mvthefw4fveynnsgbqzn7q',\n",
       "    'traits': [{'trait_type': 'ticket_type', 'value': 'VIP'}],\n",
       "    'chain': 'SOL',\n",
       "    'creators': [{'address': 'BmDQXhAuwC3vn63qHDjStt2HCFpei64GrReCARxT9tYW',\n",
       "      'verified': 1,\n",
       "      'share': 100}],\n",
       "    'network': 'devnet',\n",
       "    'description': 'An NFT commemorating a special day',\n",
       "    'provenance': [{'txHash': '5wdsEnzGBRaecarkTCowjDwK2pvytQyLsZ5AcxXnKVihW5MFhEc77MjP8qtZh3U95NWpQYA8PjR56NMmkU6SckMH',\n",
       "      'blockNumber': 196566262,\n",
       "      'date': '2023-02-18T12:02:30.000Z'}]},\n",
       "   {'name': 'NFT TEST 2',\n",
       "    'collectionName': 'Unknown',\n",
       "    'tokenAddress': '6ZHtoS7qnkejq9xrGUcQaz4dCcduxeAz3AEAGSBkPiCs',\n",
       "    'collectionAddress': '9dLPa7otfht4rszhdSL6EjfSLwENibhKa3yCqYTf1LqP',\n",
       "    'imageUrl': 'https://nftstorage.link/ipfs/bafkreihnvud35bhw6enyy6jqpa2r2cklujuehes27jd3ljzofyedzwtj6q',\n",
       "    'traits': [{'trait_type': 'ticket_type', 'value': 'standart'},\n",
       "     {'trait_type': 'zone', 'value': 1}],\n",
       "    'chain': 'SOL',\n",
       "    'creators': [{'address': 'BmDQXhAuwC3vn63qHDjStt2HCFpei64GrReCARxT9tYW',\n",
       "      'verified': 1,\n",
       "      'share': 100}],\n",
       "    'network': 'devnet',\n",
       "    'description': 'An NFT with quicknode',\n",
       "    'provenance': [{'txHash': 'eEaqfMbR68E9WMFwtTZ9wkZUceyBFM9qB9uu1NgtxRFmSDTQetxaksDwAMQLwuLt3SqbzM5Y7Ysy25UDSFTNwC3',\n",
       "      'blockNumber': 196575476,\n",
       "      'date': '2023-02-18T13:02:32.000Z'}]},\n",
       "   {'name': 'NEKO VK TEST NEW',\n",
       "    'collectionName': 'Unknown',\n",
       "    'tokenAddress': 'Ax3oCSEmpaRYWCb18Sa1DDN3cH5KeWXX2yQ9MLQm4CAU',\n",
       "    'collectionAddress': '9dLPa7otfht4rszhdSL6EjfSLwENibhKa3yCqYTf1LqP',\n",
       "    'imageUrl': 'https://nftstorage.link/ipfs/bafybeigbqmjqajhrxlp4cczaow3lj6hybwjcd4j45drpwttmdeppprzsme',\n",
       "    'traits': [{'trait_type': 'ticket_type', 'value': 'VIP+STRIP'},\n",
       "     {'trait_type': 'zone', 'value': 4},\n",
       "     {'trait_type': 'encrypted_img',\n",
       "      'value': 'https://nextcloud.seizure.icu/s/nCbFHYz8kfa5Xi7/download/pic.enc.png'}],\n",
       "    'chain': 'SOL',\n",
       "    'creators': [{'address': 'BmDQXhAuwC3vn63qHDjStt2HCFpei64GrReCARxT9tYW',\n",
       "      'verified': 1,\n",
       "      'share': 100}],\n",
       "    'network': 'devnet',\n",
       "    'description': 'AXel test encrypted ticket',\n",
       "    'provenance': [{'txHash': '3ZkPUBu3k5cQaNuCAWZ2XPt9xRsW1CfXnHiN8Fh2rDP5RV23vWAT2guwjh4aKBT7r3bDmWtKSbUzP9fgE53D4DwZ',\n",
       "      'blockNumber': 196590499,\n",
       "      'date': '2023-02-18T14:40:16.000Z'}]},\n",
       "   {'name': 'NFT ONLY FOR VK',\n",
       "    'collectionName': 'Unknown',\n",
       "    'tokenAddress': 'E6jirFqbnAjsDE6rH6gc6Ua9bbXsys2vhrYAiMjt2hu1',\n",
       "    'collectionAddress': '9dLPa7otfht4rszhdSL6EjfSLwENibhKa3yCqYTf1LqP',\n",
       "    'imageUrl': 'https://nftstorage.link/ipfs/bafkreic5bxvlrxmnzgpvpfbw2yokhmlpzgzqiysphcr2ppejfvcwa673yy',\n",
       "    'traits': [{'trait_type': 'ticket_type', 'value': 'Valer'},\n",
       "     {'trait_type': 'zone', 'value': 2},\n",
       "     {'trait_type': 'encrypted_img',\n",
       "      'value': 'https://nextcloud.seizure.icu/s/nCbFHYz8kfa5Xi7/download/pic.enc.png'}],\n",
       "    'chain': 'SOL',\n",
       "    'creators': [{'address': 'BmDQXhAuwC3vn63qHDjStt2HCFpei64GrReCARxT9tYW',\n",
       "      'verified': 1,\n",
       "      'share': 100}],\n",
       "    'network': 'devnet',\n",
       "    'description': 'AXel create encrypted ticket',\n",
       "    'provenance': [{'txHash': '4g6u2dVKGHxgYq86PMJ7QEeWxd4kGn4PpDWRuv1xgkPveBNcLBnMNc3jkFXGjH17s2HQUXSrzRJiQeAJypkmdYjd',\n",
       "      'blockNumber': 196580181,\n",
       "      'date': '2023-02-18T13:33:22.000Z'}]}],\n",
       "  'totalPages': 1,\n",
       "  'pageNumber': 1,\n",
       "  'totalItems': 4}}"
      ]
     },
     "execution_count": 46,
     "metadata": {},
     "output_type": "execute_result"
    }
   ],
   "source": [
    "wallet  = \"C1LEN5mKhd6kLvFzwZPFyNWJaGXF6dV1EGqvKzUuiocD\"\n",
    "params = {\n",
    "    \"method\": \"qn_fetchNFTs\",\n",
    "    \"params\": [wallet, []],\n",
    "  \n",
    "}\n",
    "response = requests.post(base_endpoint, json = params)\n",
    "# parsed = parse(response.json())\n",
    "# if isinstance(parsed, Ok):\n",
    "#     print(parsed.result)\n",
    "# else:\n",
    "#     logging.error(parsed.message)\n",
    "response.json()"
   ]
  },
  {
   "cell_type": "code",
   "execution_count": null,
   "id": "16d2baed",
   "metadata": {},
   "outputs": [],
   "source": []
  },
  {
   "cell_type": "code",
   "execution_count": null,
   "id": "f23d26ee",
   "metadata": {},
   "outputs": [],
   "source": []
  }
 ],
 "metadata": {
  "kernelspec": {
   "display_name": "Python 3 (ipykernel)",
   "language": "python",
   "name": "python3"
  },
  "language_info": {
   "codemirror_mode": {
    "name": "ipython",
    "version": 3
   },
   "file_extension": ".py",
   "mimetype": "text/x-python",
   "name": "python",
   "nbconvert_exporter": "python",
   "pygments_lexer": "ipython3",
   "version": "3.7.10"
  }
 },
 "nbformat": 4,
 "nbformat_minor": 5
}
